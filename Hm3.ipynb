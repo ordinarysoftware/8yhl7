{
 "cells": [
  {
   "cell_type": "code",
   "execution_count": null,
   "id": "6c8c320c",
   "metadata": {},
   "outputs": [],
   "source": [
    "import numpy as np\n",
    "from sklearn.cluster import KMeans\n",
    "import cv2\n",
    "import datetime\n",
    "from matplotlib import pyplot as plt\n",
    "import time\n"
   ]
  },
  {
   "cell_type": "code",
   "execution_count": null,
   "id": "fad45a5d",
   "metadata": {},
   "outputs": [],
   "source": [
    "image1=cv2.imread(\"1.png\")\n",
    "image2=cv2.imread(\"2.png\")\n",
    "image3=cv2.imread(\"3.png\")\n",
    "image=[image1,image2,image3]\n",
    "reshaped=[0,0,0]\n",
    "for i in range(0,3):\n",
    "    reshaped[i] = image[i].reshape(image[i].shape[0] * image[i].shape[1], image[i].shape[2])"
   ]
  },
  {
   "cell_type": "code",
   "execution_count": null,
   "id": "2938b47f",
   "metadata": {},
   "outputs": [],
   "source": [
    "numClusters=list(map(int,input(\"Enter the number of culsters for image 1,2 and 3 respectively: \").split(\" \")))"
   ]
  },
  {
   "cell_type": "code",
   "execution_count": null,
   "id": "9158832c",
   "metadata": {
    "scrolled": false
   },
   "outputs": [],
   "source": [
    "sortedLabels=[[],[],[]]\n",
    "for i in range(0,3):\n",
    "    sortedLabels[i] = sorted([n for n in range(numClusters[i])],\n",
    "        key=lambda x: -np.sum(clustering[i] == x))"
   ]
  },
  {
   "cell_type": "code",
   "execution_count": null,
   "id": "26a7ed4a",
   "metadata": {},
   "outputs": [],
   "source": [
    "kmeansImage=[0,0,0]\n",
    "concatImage=[[],[],[]]\n",
    "for j in range(0,3):\n",
    "    kmeansImage[j] = np.zeros(image[j].shape[:2], dtype=np.uint8)\n",
    "    for i, label in enumerate(sortedLabels[j]):\n",
    "        kmeansImage[j][ clustering[j] == label ] = int((255) / (numClusters[j] - 1)) * i\n",
    "    concatImage[j] = np.concatenate((image[j],193 * np.ones((image[j].shape[0], int(0.0625 * image[j].shape[1]), 3), dtype=np.uint8),cv2.cvtColor(kmeansImage[j], cv2.COLOR_GRAY2BGR)), axis=1)\n"
   ]
  },
  {
   "cell_type": "code",
   "execution_count": null,
   "id": "d4037cc9",
   "metadata": {},
   "outputs": [],
   "source": [
    "print(plt.imshow(concatImage[0]))\n",
    "print(plt.imshow(concatImage[1]))\n",
    "print(plt.imshow(concatImage[2]))"
   ]
  },
  {
   "cell_type": "code",
   "execution_count": null,
   "id": "98a9a2d9",
   "metadata": {},
   "outputs": [],
   "source": [
    "for i in range(0,3):\n",
    "    dt = datetime.datetime.now()\n",
    "    fileExtension = \"png\"\n",
    "    filename = (str(dt.hour)\n",
    "        + ':'+str(dt.minute) + ':'+str(dt.second)\n",
    "        + ' C_' + str(numClusters[i]) + '.' + fileExtension)\n",
    "    print(filename)\n",
    "    time.sleep(1)\n",
    "    cv2.imwrite(filename, concatImage[i])"
   ]
  },
  {
   "cell_type": "code",
   "execution_count": null,
   "id": "5d940ed6",
   "metadata": {},
   "outputs": [],
   "source": []
  }
 ],
 "metadata": {
  "kernelspec": {
   "display_name": "Python 3 (ipykernel)",
   "language": "python",
   "name": "python3"
  },
  "language_info": {
   "codemirror_mode": {
    "name": "ipython",
    "version": 3
   },
   "file_extension": ".py",
   "mimetype": "text/x-python",
   "name": "python",
   "nbconvert_exporter": "python",
   "pygments_lexer": "ipython3",
   "version": "3.9.12"
  },
  "vscode": {
   "interpreter": {
    "hash": "a077222d77dfe082b8f1dd562ad70e458ac2ab76993a0b248ab0476e32e9e8dd"
   }
  }
 },
 "nbformat": 4,
 "nbformat_minor": 5
}
